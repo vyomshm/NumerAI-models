{
 "cells": [
  {
   "cell_type": "code",
   "execution_count": 1,
   "metadata": {
    "collapsed": true
   },
   "outputs": [],
   "source": [
    "\"\"\"\n",
    "Example classifier on Numerai data using a logistic regression classifier.\n",
    "To get started, install the required packages: pip install pandas, numpy, sklearn\n",
    "\"\"\"\n",
    "\n",
    "import pandas as pd\n",
    "import numpy as np\n",
    "from sklearn import metrics, preprocessing, linear_model\n",
    "import tensorflow as tf"
   ]
  },
  {
   "cell_type": "code",
   "execution_count": 2,
   "metadata": {
    "collapsed": false
   },
   "outputs": [
    {
     "name": "stdout",
     "output_type": "stream",
     "text": [
      "Loading data...\n"
     ]
    }
   ],
   "source": [
    "# Set seed for reproducibility\n",
    "np.random.seed(0)\n",
    "\n",
    "print(\"Loading data...\")\n",
    "# Load the data from the CSV files\n",
    "training_data = pd.read_csv('numerai_training_data.csv', header=0)\n",
    "prediction_data = pd.read_csv('numerai_tournament_data.csv', header=0)"
   ]
  },
  {
   "cell_type": "code",
   "execution_count": 3,
   "metadata": {
    "collapsed": false
   },
   "outputs": [
    {
     "data": {
      "text/html": [
       "<div>\n",
       "<table border=\"1\" class=\"dataframe\">\n",
       "  <thead>\n",
       "    <tr style=\"text-align: right;\">\n",
       "      <th></th>\n",
       "      <th>id</th>\n",
       "      <th>era</th>\n",
       "      <th>data_type</th>\n",
       "      <th>feature1</th>\n",
       "      <th>feature2</th>\n",
       "      <th>feature3</th>\n",
       "      <th>feature4</th>\n",
       "      <th>feature5</th>\n",
       "      <th>feature6</th>\n",
       "      <th>feature7</th>\n",
       "      <th>...</th>\n",
       "      <th>feature13</th>\n",
       "      <th>feature14</th>\n",
       "      <th>feature15</th>\n",
       "      <th>feature16</th>\n",
       "      <th>feature17</th>\n",
       "      <th>feature18</th>\n",
       "      <th>feature19</th>\n",
       "      <th>feature20</th>\n",
       "      <th>feature21</th>\n",
       "      <th>target</th>\n",
       "    </tr>\n",
       "  </thead>\n",
       "  <tbody>\n",
       "    <tr>\n",
       "      <th>0</th>\n",
       "      <td>141343</td>\n",
       "      <td>era1</td>\n",
       "      <td>train</td>\n",
       "      <td>0.39259</td>\n",
       "      <td>0.61835</td>\n",
       "      <td>0.63515</td>\n",
       "      <td>0.54343</td>\n",
       "      <td>0.42712</td>\n",
       "      <td>0.60906</td>\n",
       "      <td>0.47875</td>\n",
       "      <td>...</td>\n",
       "      <td>0.37281</td>\n",
       "      <td>0.65519</td>\n",
       "      <td>0.65057</td>\n",
       "      <td>0.31835</td>\n",
       "      <td>0.62492</td>\n",
       "      <td>0.60540</td>\n",
       "      <td>0.55826</td>\n",
       "      <td>0.42972</td>\n",
       "      <td>0.28459</td>\n",
       "      <td>0</td>\n",
       "    </tr>\n",
       "    <tr>\n",
       "      <th>1</th>\n",
       "      <td>118965</td>\n",
       "      <td>era1</td>\n",
       "      <td>train</td>\n",
       "      <td>0.51999</td>\n",
       "      <td>0.62194</td>\n",
       "      <td>0.55290</td>\n",
       "      <td>0.53790</td>\n",
       "      <td>0.45459</td>\n",
       "      <td>0.48424</td>\n",
       "      <td>0.55901</td>\n",
       "      <td>...</td>\n",
       "      <td>0.45956</td>\n",
       "      <td>0.64501</td>\n",
       "      <td>0.63455</td>\n",
       "      <td>0.41849</td>\n",
       "      <td>0.53119</td>\n",
       "      <td>0.54691</td>\n",
       "      <td>0.58776</td>\n",
       "      <td>0.39615</td>\n",
       "      <td>0.32122</td>\n",
       "      <td>1</td>\n",
       "    </tr>\n",
       "    <tr>\n",
       "      <th>2</th>\n",
       "      <td>104930</td>\n",
       "      <td>era1</td>\n",
       "      <td>train</td>\n",
       "      <td>0.51097</td>\n",
       "      <td>0.39703</td>\n",
       "      <td>0.63725</td>\n",
       "      <td>0.40934</td>\n",
       "      <td>0.38163</td>\n",
       "      <td>0.28381</td>\n",
       "      <td>0.55535</td>\n",
       "      <td>...</td>\n",
       "      <td>0.39448</td>\n",
       "      <td>0.63178</td>\n",
       "      <td>0.52078</td>\n",
       "      <td>0.37193</td>\n",
       "      <td>0.60606</td>\n",
       "      <td>0.63645</td>\n",
       "      <td>0.57264</td>\n",
       "      <td>0.53535</td>\n",
       "      <td>0.51676</td>\n",
       "      <td>0</td>\n",
       "    </tr>\n",
       "    <tr>\n",
       "      <th>3</th>\n",
       "      <td>107619</td>\n",
       "      <td>era1</td>\n",
       "      <td>train</td>\n",
       "      <td>0.54786</td>\n",
       "      <td>0.62813</td>\n",
       "      <td>0.51853</td>\n",
       "      <td>0.54510</td>\n",
       "      <td>0.48513</td>\n",
       "      <td>0.56366</td>\n",
       "      <td>0.52711</td>\n",
       "      <td>...</td>\n",
       "      <td>0.49475</td>\n",
       "      <td>0.59248</td>\n",
       "      <td>0.55167</td>\n",
       "      <td>0.47589</td>\n",
       "      <td>0.49704</td>\n",
       "      <td>0.52032</td>\n",
       "      <td>0.51307</td>\n",
       "      <td>0.41957</td>\n",
       "      <td>0.35533</td>\n",
       "      <td>0</td>\n",
       "    </tr>\n",
       "    <tr>\n",
       "      <th>4</th>\n",
       "      <td>107532</td>\n",
       "      <td>era1</td>\n",
       "      <td>train</td>\n",
       "      <td>0.63631</td>\n",
       "      <td>0.69773</td>\n",
       "      <td>0.41166</td>\n",
       "      <td>0.64127</td>\n",
       "      <td>0.56288</td>\n",
       "      <td>0.53927</td>\n",
       "      <td>0.49923</td>\n",
       "      <td>...</td>\n",
       "      <td>0.59686</td>\n",
       "      <td>0.52205</td>\n",
       "      <td>0.51610</td>\n",
       "      <td>0.58242</td>\n",
       "      <td>0.39449</td>\n",
       "      <td>0.41700</td>\n",
       "      <td>0.49341</td>\n",
       "      <td>0.34180</td>\n",
       "      <td>0.29281</td>\n",
       "      <td>1</td>\n",
       "    </tr>\n",
       "  </tbody>\n",
       "</table>\n",
       "<p>5 rows × 25 columns</p>\n",
       "</div>"
      ],
      "text/plain": [
       "       id   era data_type  feature1  feature2  feature3  feature4  feature5  \\\n",
       "0  141343  era1     train   0.39259   0.61835   0.63515   0.54343   0.42712   \n",
       "1  118965  era1     train   0.51999   0.62194   0.55290   0.53790   0.45459   \n",
       "2  104930  era1     train   0.51097   0.39703   0.63725   0.40934   0.38163   \n",
       "3  107619  era1     train   0.54786   0.62813   0.51853   0.54510   0.48513   \n",
       "4  107532  era1     train   0.63631   0.69773   0.41166   0.64127   0.56288   \n",
       "\n",
       "   feature6  feature7   ...    feature13  feature14  feature15  feature16  \\\n",
       "0   0.60906   0.47875   ...      0.37281    0.65519    0.65057    0.31835   \n",
       "1   0.48424   0.55901   ...      0.45956    0.64501    0.63455    0.41849   \n",
       "2   0.28381   0.55535   ...      0.39448    0.63178    0.52078    0.37193   \n",
       "3   0.56366   0.52711   ...      0.49475    0.59248    0.55167    0.47589   \n",
       "4   0.53927   0.49923   ...      0.59686    0.52205    0.51610    0.58242   \n",
       "\n",
       "   feature17  feature18  feature19  feature20  feature21  target  \n",
       "0    0.62492    0.60540    0.55826    0.42972    0.28459       0  \n",
       "1    0.53119    0.54691    0.58776    0.39615    0.32122       1  \n",
       "2    0.60606    0.63645    0.57264    0.53535    0.51676       0  \n",
       "3    0.49704    0.52032    0.51307    0.41957    0.35533       0  \n",
       "4    0.39449    0.41700    0.49341    0.34180    0.29281       1  \n",
       "\n",
       "[5 rows x 25 columns]"
      ]
     },
     "execution_count": 3,
     "metadata": {},
     "output_type": "execute_result"
    }
   ],
   "source": [
    "training_data.head()"
   ]
  },
  {
   "cell_type": "code",
   "execution_count": 4,
   "metadata": {
    "collapsed": false
   },
   "outputs": [
    {
     "name": "stdout",
     "output_type": "stream",
     "text": [
      "<class 'pandas.core.frame.DataFrame'>\n",
      "RangeIndex: 108405 entries, 0 to 108404\n",
      "Data columns (total 25 columns):\n",
      "id           108405 non-null int64\n",
      "era          108405 non-null object\n",
      "data_type    108405 non-null object\n",
      "feature1     108405 non-null float64\n",
      "feature2     108405 non-null float64\n",
      "feature3     108405 non-null float64\n",
      "feature4     108405 non-null float64\n",
      "feature5     108405 non-null float64\n",
      "feature6     108405 non-null float64\n",
      "feature7     108405 non-null float64\n",
      "feature8     108405 non-null float64\n",
      "feature9     108405 non-null float64\n",
      "feature10    108405 non-null float64\n",
      "feature11    108405 non-null float64\n",
      "feature12    108405 non-null float64\n",
      "feature13    108405 non-null float64\n",
      "feature14    108405 non-null float64\n",
      "feature15    108405 non-null float64\n",
      "feature16    108405 non-null float64\n",
      "feature17    108405 non-null float64\n",
      "feature18    108405 non-null float64\n",
      "feature19    108405 non-null float64\n",
      "feature20    108405 non-null float64\n",
      "feature21    108405 non-null float64\n",
      "target       108405 non-null int64\n",
      "dtypes: float64(21), int64(2), object(2)\n",
      "memory usage: 20.7+ MB\n"
     ]
    }
   ],
   "source": [
    "training_data.info()"
   ]
  },
  {
   "cell_type": "code",
   "execution_count": 5,
   "metadata": {
    "collapsed": false
   },
   "outputs": [
    {
     "data": {
      "text/plain": [
       "(108405, 25)"
      ]
     },
     "execution_count": 5,
     "metadata": {},
     "output_type": "execute_result"
    }
   ],
   "source": [
    "training_data.shape"
   ]
  },
  {
   "cell_type": "code",
   "execution_count": 7,
   "metadata": {
    "collapsed": false
   },
   "outputs": [
    {
     "data": {
      "text/plain": [
       "array(['era1', 'era2', 'era3', 'era4', 'era5', 'era6', 'era7', 'era8',\n",
       "       'era9', 'era10', 'era11', 'era12', 'era13', 'era14', 'era15',\n",
       "       'era16', 'era17', 'era18', 'era19', 'era20', 'era21', 'era22',\n",
       "       'era23', 'era24', 'era25', 'era26', 'era27', 'era28', 'era29',\n",
       "       'era30', 'era31', 'era32', 'era33', 'era34', 'era35', 'era36',\n",
       "       'era37', 'era38', 'era39', 'era40', 'era41', 'era42', 'era43',\n",
       "       'era44', 'era45', 'era46', 'era47', 'era48', 'era49', 'era50',\n",
       "       'era51', 'era52', 'era53', 'era54', 'era55', 'era56', 'era57',\n",
       "       'era58', 'era59', 'era60', 'era61', 'era62', 'era63', 'era64',\n",
       "       'era65', 'era66', 'era67', 'era68', 'era69', 'era70', 'era71',\n",
       "       'era72', 'era73', 'era74', 'era75', 'era76', 'era77', 'era78',\n",
       "       'era79', 'era80', 'era81', 'era82', 'era83', 'era84', 'era85',\n",
       "       'era86', 'era87', 'era88', 'era89', 'era90', 'era91', 'era92',\n",
       "       'era93', 'era94', 'era95', 'era96'], dtype=object)"
      ]
     },
     "execution_count": 7,
     "metadata": {},
     "output_type": "execute_result"
    }
   ],
   "source": [
    "training_data.era.unique()"
   ]
  },
  {
   "cell_type": "code",
   "execution_count": 9,
   "metadata": {
    "collapsed": false
   },
   "outputs": [
    {
     "data": {
      "text/plain": [
       "era69    1422\n",
       "era68    1420\n",
       "era71    1412\n",
       "era70    1406\n",
       "era67    1392\n",
       "era72    1379\n",
       "era88    1373\n",
       "era80    1373\n",
       "era64    1365\n",
       "era74    1364\n",
       "era79    1362\n",
       "era85    1359\n",
       "era84    1358\n",
       "era96    1353\n",
       "era86    1352\n",
       "era83    1346\n",
       "era78    1346\n",
       "era87    1345\n",
       "era89    1345\n",
       "era90    1344\n",
       "era92    1344\n",
       "era95    1342\n",
       "era91    1335\n",
       "era63    1333\n",
       "era66    1332\n",
       "era75    1330\n",
       "era93    1328\n",
       "era62    1323\n",
       "era94    1321\n",
       "era82    1320\n",
       "         ... \n",
       "era23    1092\n",
       "era40    1072\n",
       "era44    1072\n",
       "era22    1071\n",
       "era38    1068\n",
       "era21    1048\n",
       "era39    1035\n",
       "era20    1030\n",
       "era41    1024\n",
       "era43    1018\n",
       "era19    1006\n",
       "era42     989\n",
       "era18     973\n",
       "era16     966\n",
       "era17     954\n",
       "era15     935\n",
       "era14     912\n",
       "era13     870\n",
       "era11     865\n",
       "era12     860\n",
       "era10     831\n",
       "era9      809\n",
       "era8      797\n",
       "era3      403\n",
       "era6      272\n",
       "era7      264\n",
       "era5      256\n",
       "era2      241\n",
       "era4      220\n",
       "era1      124\n",
       "Name: era, dtype: int64"
      ]
     },
     "execution_count": 9,
     "metadata": {},
     "output_type": "execute_result"
    }
   ],
   "source": [
    "training_data.era.value_counts()"
   ]
  },
  {
   "cell_type": "code",
   "execution_count": 8,
   "metadata": {
    "collapsed": false
   },
   "outputs": [
    {
     "data": {
      "text/plain": [
       "array(['train'], dtype=object)"
      ]
     },
     "execution_count": 8,
     "metadata": {},
     "output_type": "execute_result"
    }
   ],
   "source": [
    "training_data.data_type.unique()"
   ]
  },
  {
   "cell_type": "code",
   "execution_count": 6,
   "metadata": {
    "collapsed": false
   },
   "outputs": [
    {
     "data": {
      "text/plain": [
       "['id',\n",
       " 'era',\n",
       " 'data_type',\n",
       " 'feature1',\n",
       " 'feature2',\n",
       " 'feature3',\n",
       " 'feature4',\n",
       " 'feature5',\n",
       " 'feature6',\n",
       " 'feature7',\n",
       " 'feature8',\n",
       " 'feature9',\n",
       " 'feature10',\n",
       " 'feature11',\n",
       " 'feature12',\n",
       " 'feature13',\n",
       " 'feature14',\n",
       " 'feature15',\n",
       " 'feature16',\n",
       " 'feature17',\n",
       " 'feature18',\n",
       " 'feature19',\n",
       " 'feature20',\n",
       " 'feature21',\n",
       " 'target']"
      ]
     },
     "execution_count": 6,
     "metadata": {},
     "output_type": "execute_result"
    }
   ],
   "source": [
    "list(training_data)"
   ]
  },
  {
   "cell_type": "markdown",
   "metadata": {},
   "source": [
    "# Example linear logistical regression model"
   ]
  },
  {
   "cell_type": "code",
   "execution_count": 4,
   "metadata": {
    "collapsed": false
   },
   "outputs": [],
   "source": [
    "# Transform the loaded CSV data into numpy arrays\n",
    "# features = [f for f in list(training_data) if \"feature\" in f]\n",
    "# X = training_data[features]\n",
    "# Y = training_data[\"target\"]\n",
    "# x_prediction = prediction_data[features]\n",
    "# ids = prediction_data[\"id\"]\n",
    "\n",
    "\n",
    "# # This is your model that will learn to predict\n",
    "# model = linear_model.LogisticRegression(n_jobs=-1)\n",
    "\n",
    "# print(\"Training...\")\n",
    "# # Your model is trained on the training_data\n",
    "# model.fit(X, Y)\n",
    "\n",
    "# print(\"Predicting...\")\n",
    "# # Your trained model is now used to make predictions on the numerai_tournament_data\n",
    "# # The model returns two columns: [probability of 0, probability of 1]\n",
    "# # We are just interested in the probability that the target is 1.\n",
    "# y_prediction = model.predict_proba(x_prediction)\n",
    "# results = y_prediction[:, 1]\n",
    "# results_df = pd.DataFrame(data={'probability':results})\n",
    "# joined = pd.DataFrame(ids).join(results_df)\n",
    "\n",
    "# print(\"Writing predictions to predictions.csv\")\n",
    "# # Save the predictions out to a CSV file\n",
    "# joined.to_csv(\"predictions.csv\", index=False)\n",
    "# Now you can upload these predictions on numer.ai"
   ]
  },
  {
   "cell_type": "code",
   "execution_count": null,
   "metadata": {
    "collapsed": true
   },
   "outputs": [],
   "source": []
  },
  {
   "cell_type": "markdown",
   "metadata": {
    "collapsed": true
   },
   "source": [
    "# 1: A deep feedforward net using tensorflow"
   ]
  },
  {
   "cell_type": "code",
   "execution_count": null,
   "metadata": {
    "collapsed": true
   },
   "outputs": [],
   "source": [
    "inputs = tf.pl"
   ]
  }
 ],
 "metadata": {
  "kernelspec": {
   "display_name": "Python 3",
   "language": "python",
   "name": "python3"
  },
  "language_info": {
   "codemirror_mode": {
    "name": "ipython",
    "version": 3
   },
   "file_extension": ".py",
   "mimetype": "text/x-python",
   "name": "python",
   "nbconvert_exporter": "python",
   "pygments_lexer": "ipython3",
   "version": "3.5.3"
  }
 },
 "nbformat": 4,
 "nbformat_minor": 2
}
